{
 "cells": [
  {
   "cell_type": "code",
   "execution_count": null,
   "id": "b207752c-27ad-4141-a360-69831ee5c590",
   "metadata": {},
   "outputs": [
    {
     "name": "stdin",
     "output_type": "stream",
     "text": [
      "> hello\n"
     ]
    },
    {
     "name": "stdout",
     "output_type": "stream",
     "text": [
      "Hey!\n"
     ]
    },
    {
     "name": "stdin",
     "output_type": "stream",
     "text": [
      "> my name is priyanka\n"
     ]
    },
    {
     "name": "stdout",
     "output_type": "stream",
     "text": [
      "Hello priyanka, how can I help you today?\n"
     ]
    },
    {
     "name": "stdin",
     "output_type": "stream",
     "text": [
      "> how are you\n"
     ]
    },
    {
     "name": "stdout",
     "output_type": "stream",
     "text": [
      "I'm feeling great!\n"
     ]
    },
    {
     "name": "stdin",
     "output_type": "stream",
     "text": [
      "> whats the weather today\n"
     ]
    },
    {
     "name": "stdout",
     "output_type": "stream",
     "text": [
      "You can check a weather website or app for that.\n"
     ]
    }
   ],
   "source": [
    "import nltk\n",
    "from nltk.chat.util import Chat, reflections\n",
    "\n",
    "# Define patterns and responses using NLTK's Chat class\n",
    "pairs = [\n",
    "    [\n",
    "        r\"my name is (.*)\",\n",
    "        [\"Hello %1, how can I help you today?\",]\n",
    "    ],\n",
    "    [\n",
    "        r\"what is your name?\",\n",
    "        [\"I am a chatbot created with NLTK.\",]\n",
    "    ],\n",
    "    [\n",
    "        r\"how are you ?\",\n",
    "        [\"I'm doing well, thank you!\", \"I'm feeling great!\",]\n",
    "    ],\n",
    "    [\n",
    "        r\"sorry (.*)\",\n",
    "        [\"No problem.\", \"Don't worry about it.\",]\n",
    "    ],\n",
    "    [\n",
    "        r\"i'm (.*) doing good\",\n",
    "        [\"Nice to hear that!\", \"That's good news.\",]\n",
    "    ],\n",
    "    [\n",
    "        r\"hi|hello|hey\",\n",
    "        [\"Hello!\", \"Hi there!\", \"Hey!\",]\n",
    "    ],\n",
    "    [\n",
    "        r\"bye|goodbye|see you\",\n",
    "        [\"Goodbye!\", \"Bye!\", \"See you later!\",]\n",
    "    ],\n",
    "    [\n",
    "        r\"quit|exit\",\n",
    "        [\"Bye!\", \"It was nice talking to you.\", \"Have a great day!\",]\n",
    "    ],\n",
    "    [\n",
    "        r\"(.*) (weather|temperature) (today)?\",\n",
    "        [\"I'm sorry, I cannot provide real-time weather information.\", \"You can check a weather website or app for that.\",]\n",
    "    ],\n",
    "    [\n",
    "        r\"(.*) (thank you|thanks)\",\n",
    "        [\"You're welcome!\", \"No problem.\",]\n",
    "    ],\n",
    "    [\n",
    "        r\"what can you do?\",\n",
    "        [\"I can have simple conversations with you.\", \"Ask me a question!\",]\n",
    "    ],\n",
    "]\n",
    "\n",
    "# Create a Chat instance\n",
    "chatbot = Chat(pairs, reflections)\n",
    "\n",
    "chatbot.converse()"
   ]
  },
  {
   "cell_type": "code",
   "execution_count": null,
   "id": "7bcb9a4a-bb1f-48a0-b361-c21473823993",
   "metadata": {},
   "outputs": [],
   "source": []
  }
 ],
 "metadata": {
  "kernelspec": {
   "display_name": "Python [conda env:base] *",
   "language": "python",
   "name": "conda-base-py"
  },
  "language_info": {
   "codemirror_mode": {
    "name": "ipython",
    "version": 3
   },
   "file_extension": ".py",
   "mimetype": "text/x-python",
   "name": "python",
   "nbconvert_exporter": "python",
   "pygments_lexer": "ipython3",
   "version": "3.12.7"
  }
 },
 "nbformat": 4,
 "nbformat_minor": 5
}
